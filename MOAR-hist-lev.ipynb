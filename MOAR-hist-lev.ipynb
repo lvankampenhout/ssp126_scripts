{
 "cells": [
  {
   "cell_type": "code",
   "execution_count": 13,
   "metadata": {},
   "outputs": [],
   "source": [
    "import xarray as xr\n",
    "from pathlib import Path\n",
    "import numpy as np"
   ]
  },
  {
   "cell_type": "code",
   "execution_count": 8,
   "metadata": {},
   "outputs": [],
   "source": [
    "mydir = '/glade/collections/cdg/data/CMIP6/CMIP/NCAR/CESM2/historical/r11i1p1f1/6hrLev/hus/gn/latest/'"
   ]
  },
  {
   "cell_type": "code",
   "execution_count": 10,
   "metadata": {},
   "outputs": [],
   "source": [
    "all_files = sorted(path.glob('*.nc'))"
   ]
  },
  {
   "cell_type": "markdown",
   "metadata": {},
   "source": [
    "## LEV how it should be"
   ]
  },
  {
   "cell_type": "code",
   "execution_count": 18,
   "metadata": {},
   "outputs": [
    {
     "name": "stdout",
     "output_type": "stream",
     "text": [
      "[  -3.64346569   -7.59481965  -14.35663225  -24.61222     -35.92325002\n",
      "  -43.19375008  -51.67749897  -61.52049825  -73.75095785  -87.82123029\n",
      " -103.31712663 -121.54724076 -142.99403876 -168.22507977 -197.9080867\n",
      " -232.82861896 -273.91081676 -322.24190235 -379.10090387 -445.9925741\n",
      " -524.68717471 -609.77869481 -691.38943031 -763.40448111 -820.85836865\n",
      " -859.53476653 -887.02024892 -912.64454694 -936.19839847 -957.48547954\n",
      " -976.32540739 -992.55609512]\n"
     ]
    }
   ],
   "source": [
    "foo = xr.open_dataset(all_files[-1]).lev.values\n",
    "print(foo)"
   ]
  },
  {
   "cell_type": "markdown",
   "metadata": {},
   "source": [
    "## LEV in all files"
   ]
  },
  {
   "cell_type": "code",
   "execution_count": 15,
   "metadata": {},
   "outputs": [
    {
     "name": "stdout",
     "output_type": "stream",
     "text": [
      "/glade/collections/cdg/data/CMIP6/CMIP/NCAR/CESM2/historical/r11i1p1f1/6hrLev/hus/gn/latest/hus_6hrLev_CESM2_historical_r11i1p1f1_gn_185001010000-185912311800.nc\n"
     ]
    },
    {
     "name": "stderr",
     "output_type": "stream",
     "text": [
      "/glade/u/home/lvank/miniconda3/envs/base2/lib/python3.8/site-packages/xarray/conventions.py:492: SerializationWarning: variable 'hus' has multiple fill values {1e+20, 1e+20}, decoding all values to NaN.\n",
      "  new_vars[k] = decode_cf_variable(\n"
     ]
    },
    {
     "name": "stdout",
     "output_type": "stream",
     "text": [
      "False\n",
      "[-0.9925561  -0.97632541 -0.95748548 -0.9361984  -0.91264455 -0.88702025\n",
      " -0.85953477 -0.82085837 -0.76340448 -0.69138943 -0.60977869 -0.52468717\n",
      " -0.44599257 -0.3791009  -0.3222419  -0.27391082 -0.23282862 -0.19790809\n",
      " -0.16822508 -0.14299404 -0.12154724 -0.10331713 -0.08782123 -0.07375096\n",
      " -0.0615205  -0.0516775  -0.04319375 -0.03592325 -0.02461222 -0.01435663\n",
      " -0.00759482 -0.00364347]\n",
      "/glade/collections/cdg/data/CMIP6/CMIP/NCAR/CESM2/historical/r11i1p1f1/6hrLev/hus/gn/latest/hus_6hrLev_CESM2_historical_r11i1p1f1_gn_186001010000-186912311800.nc\n",
      "False\n",
      "[-0.9925561  -0.97632541 -0.95748548 -0.9361984  -0.91264455 -0.88702025\n",
      " -0.85953477 -0.82085837 -0.76340448 -0.69138943 -0.60977869 -0.52468717\n",
      " -0.44599257 -0.3791009  -0.3222419  -0.27391082 -0.23282862 -0.19790809\n",
      " -0.16822508 -0.14299404 -0.12154724 -0.10331713 -0.08782123 -0.07375096\n",
      " -0.0615205  -0.0516775  -0.04319375 -0.03592325 -0.02461222 -0.01435663\n",
      " -0.00759482 -0.00364347]\n",
      "/glade/collections/cdg/data/CMIP6/CMIP/NCAR/CESM2/historical/r11i1p1f1/6hrLev/hus/gn/latest/hus_6hrLev_CESM2_historical_r11i1p1f1_gn_187001010000-187912311800.nc\n",
      "True\n",
      "/glade/collections/cdg/data/CMIP6/CMIP/NCAR/CESM2/historical/r11i1p1f1/6hrLev/hus/gn/latest/hus_6hrLev_CESM2_historical_r11i1p1f1_gn_188001010000-188912311800.nc\n",
      "True\n",
      "/glade/collections/cdg/data/CMIP6/CMIP/NCAR/CESM2/historical/r11i1p1f1/6hrLev/hus/gn/latest/hus_6hrLev_CESM2_historical_r11i1p1f1_gn_189001010000-189912311800.nc\n",
      "True\n",
      "/glade/collections/cdg/data/CMIP6/CMIP/NCAR/CESM2/historical/r11i1p1f1/6hrLev/hus/gn/latest/hus_6hrLev_CESM2_historical_r11i1p1f1_gn_190001010000-190912311800.nc\n",
      "True\n",
      "/glade/collections/cdg/data/CMIP6/CMIP/NCAR/CESM2/historical/r11i1p1f1/6hrLev/hus/gn/latest/hus_6hrLev_CESM2_historical_r11i1p1f1_gn_191001010000-191912311800.nc\n",
      "True\n",
      "/glade/collections/cdg/data/CMIP6/CMIP/NCAR/CESM2/historical/r11i1p1f1/6hrLev/hus/gn/latest/hus_6hrLev_CESM2_historical_r11i1p1f1_gn_192001010000-192912311800.nc\n",
      "True\n",
      "/glade/collections/cdg/data/CMIP6/CMIP/NCAR/CESM2/historical/r11i1p1f1/6hrLev/hus/gn/latest/hus_6hrLev_CESM2_historical_r11i1p1f1_gn_193001010000-193912311800.nc\n",
      "True\n",
      "/glade/collections/cdg/data/CMIP6/CMIP/NCAR/CESM2/historical/r11i1p1f1/6hrLev/hus/gn/latest/hus_6hrLev_CESM2_historical_r11i1p1f1_gn_194001010000-194912311800.nc\n",
      "True\n",
      "/glade/collections/cdg/data/CMIP6/CMIP/NCAR/CESM2/historical/r11i1p1f1/6hrLev/hus/gn/latest/hus_6hrLev_CESM2_historical_r11i1p1f1_gn_195001010000-195912311800.nc\n",
      "True\n",
      "/glade/collections/cdg/data/CMIP6/CMIP/NCAR/CESM2/historical/r11i1p1f1/6hrLev/hus/gn/latest/hus_6hrLev_CESM2_historical_r11i1p1f1_gn_196001010000-196912311800.nc\n",
      "True\n",
      "/glade/collections/cdg/data/CMIP6/CMIP/NCAR/CESM2/historical/r11i1p1f1/6hrLev/hus/gn/latest/hus_6hrLev_CESM2_historical_r11i1p1f1_gn_197001010000-197912311800.nc\n",
      "True\n",
      "/glade/collections/cdg/data/CMIP6/CMIP/NCAR/CESM2/historical/r11i1p1f1/6hrLev/hus/gn/latest/hus_6hrLev_CESM2_historical_r11i1p1f1_gn_198001010000-198912311800.nc\n",
      "True\n",
      "/glade/collections/cdg/data/CMIP6/CMIP/NCAR/CESM2/historical/r11i1p1f1/6hrLev/hus/gn/latest/hus_6hrLev_CESM2_historical_r11i1p1f1_gn_199001010000-199912311800.nc\n",
      "False\n",
      "[-0.9925561  -0.97632541 -0.95748548 -0.9361984  -0.91264455 -0.88702025\n",
      " -0.85953477 -0.82085837 -0.76340448 -0.69138943 -0.60977869 -0.52468717\n",
      " -0.44599257 -0.3791009  -0.3222419  -0.27391082 -0.23282862 -0.19790809\n",
      " -0.16822508 -0.14299404 -0.12154724 -0.10331713 -0.08782123 -0.07375096\n",
      " -0.0615205  -0.0516775  -0.04319375 -0.03592325 -0.02461222 -0.01435663\n",
      " -0.00759482 -0.00364347]\n",
      "/glade/collections/cdg/data/CMIP6/CMIP/NCAR/CESM2/historical/r11i1p1f1/6hrLev/hus/gn/latest/hus_6hrLev_CESM2_historical_r11i1p1f1_gn_200001010000-200912311800.nc\n",
      "True\n",
      "/glade/collections/cdg/data/CMIP6/CMIP/NCAR/CESM2/historical/r11i1p1f1/6hrLev/hus/gn/latest/hus_6hrLev_CESM2_historical_r11i1p1f1_gn_201001010000-201501010000.nc\n",
      "True\n"
     ]
    }
   ],
   "source": [
    "path = Path(mydir)\n",
    "\n",
    "for file in all_files:\n",
    "    print(file)\n",
    "    bar = xr.open_dataset(file).lev.values\n",
    "    log = np.array_equal(foo, bar)\n",
    "    print(log)\n",
    "    if (log == False):\n",
    "        print(bar)\n",
    "    "
   ]
  },
  {
   "cell_type": "code",
   "execution_count": null,
   "metadata": {},
   "outputs": [],
   "source": []
  }
 ],
 "metadata": {
  "kernelspec": {
   "display_name": "Python 3",
   "language": "python",
   "name": "python3"
  },
  "language_info": {
   "codemirror_mode": {
    "name": "ipython",
    "version": 3
   },
   "file_extension": ".py",
   "mimetype": "text/x-python",
   "name": "python",
   "nbconvert_exporter": "python",
   "pygments_lexer": "ipython3",
   "version": "3.8.5"
  }
 },
 "nbformat": 4,
 "nbformat_minor": 4
}
