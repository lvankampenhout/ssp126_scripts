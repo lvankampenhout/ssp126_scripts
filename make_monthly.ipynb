{
 "cells": [
  {
   "cell_type": "code",
   "execution_count": 1,
   "metadata": {},
   "outputs": [],
   "source": [
    "import matplotlib.pyplot as plt\n",
    "import xarray as xr"
   ]
  },
  {
   "cell_type": "markdown",
   "metadata": {},
   "source": [
    "# Step 1. Read variables"
   ]
  },
  {
   "cell_type": "code",
   "execution_count": 62,
   "metadata": {},
   "outputs": [],
   "source": [
    "def read_ATM():\n",
    "    \"\"\"\n",
    "    6-hourly ATM variables \n",
    "    \n",
    "    no corrections needed on these ones\n",
    "    \"\"\"\n",
    "    ds = xr.open_mfdataset('hus/*.nc', combine='by_coords')\n",
    "    hus = ds.hus\n",
    "    \n",
    "    ds = xr.open_mfdataset('ta/*.nc', combine='by_coords')\n",
    "    ta = ds.ta\n",
    "    \n",
    "    assert(len(ta) == 125561)\n",
    "    assert(len(hus) == 125561)\n",
    "    \n",
    "    return hus,ta"
   ]
  },
  {
   "cell_type": "code",
   "execution_count": 55,
   "metadata": {},
   "outputs": [
    {
     "name": "stderr",
     "output_type": "stream",
     "text": [
      "/glade/u/home/lvank/miniconda3/lib/python3.7/site-packages/xarray/conventions.py:494: SerializationWarning: variable 'hus' has multiple fill values {1e+20, 1e+20}, decoding all values to NaN.\n",
      "  use_cftime=use_cftime,\n",
      "/glade/u/home/lvank/miniconda3/lib/python3.7/site-packages/xarray/conventions.py:494: SerializationWarning: variable 'ta' has multiple fill values {1e+20, 1e+20}, decoding all values to NaN.\n",
      "  use_cftime=use_cftime,\n"
     ]
    }
   ],
   "source": [
    "hus, ta = read_ATM()"
   ]
  },
  {
   "cell_type": "code",
   "execution_count": 56,
   "metadata": {},
   "outputs": [],
   "source": [
    "lat, lon = hus.lat, hus.lon"
   ]
  },
  {
   "cell_type": "code",
   "execution_count": 65,
   "metadata": {},
   "outputs": [],
   "source": [
    "#ds_tos = xr.open_mfdataset('tos/fv1_grid/*.6h.nc', combine='by_coords')\n",
    "\n",
    "def read_tos(lat, lon):\n",
    "    \"\"\"\n",
    "    Read SST from ocean model POP\n",
    "    \n",
    "    TOS has been interpolated to the ATM grid, and has been interpolated in time as well (daily to 6-hourly). \n",
    "    Some coordinates have been messed up as a result, need to align with the ATM variables before merging. \n",
    "    \n",
    "    Also: because it is POP output, the first of January at the beginning of the simulation is missing. \n",
    "    This will be fixed (interpolated) later when we process that particular month. Doing it here would require\n",
    "    a large overhead (xr.concat is very slow on big datasets...)\n",
    "    \"\"\"\n",
    "    ds = xr.open_dataset('tos/fv1_grid/tos_Oday_CESM2_ssp126_r11i1p1f1_gn_20150102-21010101.6h.nc')\n",
    "    tos = ds.tos\n",
    "    \n",
    "    del tos['lat']\n",
    "    del tos['lon']\n",
    "    \n",
    "    tos = tos.rename({'y':'lat', 'x':'lon'})\n",
    "    \n",
    "    tos['lat'] = lat\n",
    "    tos['lon'] = lon\n",
    "    \n",
    "    assert(len(tos) == 125561 - 4) # POP output, first day missing\n",
    "    return tos"
   ]
  },
  {
   "cell_type": "code",
   "execution_count": 66,
   "metadata": {},
   "outputs": [],
   "source": [
    "tos = read_tos(lat, lon)"
   ]
  },
  {
   "cell_type": "markdown",
   "metadata": {},
   "source": [
    "## 1 January missing in POP variables, correct this"
   ]
  },
  {
   "cell_type": "code",
   "execution_count": 8,
   "metadata": {},
   "outputs": [],
   "source": [
    "tos2 = tos[[0,1,2,3]].copy()"
   ]
  },
  {
   "cell_type": "code",
   "execution_count": 9,
   "metadata": {},
   "outputs": [
    {
     "data": {
      "text/html": [
       "<pre>&lt;xarray.DataArray &#x27;time&#x27; (time: 4)&gt;\n",
       "array([cftime.DatetimeNoLeap(2015-01-02 00:00:00),\n",
       "       cftime.DatetimeNoLeap(2015-01-02 06:00:00),\n",
       "       cftime.DatetimeNoLeap(2015-01-02 12:00:00),\n",
       "       cftime.DatetimeNoLeap(2015-01-02 18:00:00)], dtype=object)\n",
       "Coordinates:\n",
       "  * time     (time) object 2015-01-02 00:00:00 ... 2015-01-02 18:00:00\n",
       "Attributes:\n",
       "    standard_name:  time\n",
       "    axis:           T</pre>"
      ],
      "text/plain": [
       "<xarray.DataArray 'time' (time: 4)>\n",
       "array([cftime.DatetimeNoLeap(2015-01-02 00:00:00),\n",
       "       cftime.DatetimeNoLeap(2015-01-02 06:00:00),\n",
       "       cftime.DatetimeNoLeap(2015-01-02 12:00:00),\n",
       "       cftime.DatetimeNoLeap(2015-01-02 18:00:00)], dtype=object)\n",
       "Coordinates:\n",
       "  * time     (time) object 2015-01-02 00:00:00 ... 2015-01-02 18:00:00\n",
       "Attributes:\n",
       "    standard_name:  time\n",
       "    axis:           T"
      ]
     },
     "execution_count": 9,
     "metadata": {},
     "output_type": "execute_result"
    }
   ],
   "source": [
    "tos2.time"
   ]
  },
  {
   "cell_type": "code",
   "execution_count": 10,
   "metadata": {},
   "outputs": [],
   "source": [
    "x = [y.replace(day=1) for y in tos2.time.data]\n",
    "x_da = xr.DataArray(x, coords=[x,], dims='time')\n",
    "#x_da"
   ]
  },
  {
   "cell_type": "code",
   "execution_count": 11,
   "metadata": {},
   "outputs": [],
   "source": [
    "tos2['time'] = x_da"
   ]
  },
  {
   "cell_type": "markdown",
   "metadata": {},
   "source": [
    "## Dask"
   ]
  },
  {
   "cell_type": "code",
   "execution_count": null,
   "metadata": {},
   "outputs": [],
   "source": [
    "import dask.array as da"
   ]
  },
  {
   "cell_type": "code",
   "execution_count": null,
   "metadata": {},
   "outputs": [],
   "source": [
    "\n",
    "shape = (1000, 4000)\n",
    "\n",
    "\n",
    "chunk_shape = (1000, 1000)\n",
    "ones = da.ones(shape, chunks=chunk_shape)\n",
    "\n",
    "ones = da.ones(shape)"
   ]
  },
  {
   "cell_type": "code",
   "execution_count": null,
   "metadata": {},
   "outputs": [],
   "source": [
    "sum_of_ones = ones.sum()\n",
    "sum_of_ones.visualize()"
   ]
  },
  {
   "cell_type": "markdown",
   "metadata": {},
   "source": [
    "# Step 2 - convert to monthly"
   ]
  },
  {
   "cell_type": "code",
   "execution_count": 16,
   "metadata": {},
   "outputs": [
    {
     "data": {
      "text/plain": [
       "'/glade/work/lvank/for_Melchior/b.e21.BSSP126cmip6.f09_g17.CMIP6-SSP1-2.6.102'"
      ]
     },
     "execution_count": 16,
     "metadata": {},
     "output_type": "execute_result"
    }
   ],
   "source": [
    "pwd"
   ]
  },
  {
   "cell_type": "code",
   "execution_count": 75,
   "metadata": {},
   "outputs": [],
   "source": [
    "def make_month(mon_str):\n",
    "       \n",
    "    var_list = [x.sel(time=slice(mon_str,mon_str)) for x in [hus,tos,ta]]\n",
    "    \n",
    "    ds_out = xr.merge(var_list)\n",
    "    return ds_out"
   ]
  },
  {
   "cell_type": "code",
   "execution_count": 76,
   "metadata": {},
   "outputs": [],
   "source": [
    "mon_str = '2015-02'"
   ]
  },
  {
   "cell_type": "code",
   "execution_count": 77,
   "metadata": {},
   "outputs": [],
   "source": [
    "ds = make_month(mon_str)"
   ]
  },
  {
   "cell_type": "code",
   "execution_count": 81,
   "metadata": {},
   "outputs": [
    {
     "data": {
      "text/plain": [
       "{}"
      ]
     },
     "execution_count": 81,
     "metadata": {},
     "output_type": "execute_result"
    }
   ],
   "source": [
    "ds.attrs"
   ]
  },
  {
   "cell_type": "code",
   "execution_count": 84,
   "metadata": {},
   "outputs": [],
   "source": [
    "import datetime"
   ]
  },
  {
   "cell_type": "code",
   "execution_count": 87,
   "metadata": {},
   "outputs": [
    {
     "ename": "NameError",
     "evalue": "name '__file__' is not defined",
     "output_type": "error",
     "traceback": [
      "\u001b[0;31m---------------------------------------------------------------------------\u001b[0m",
      "\u001b[0;31mNameError\u001b[0m                                 Traceback (most recent call last)",
      "\u001b[0;32m<ipython-input-87-25efabea376a>\u001b[0m in \u001b[0;36m<module>\u001b[0;34m\u001b[0m\n\u001b[1;32m      1\u001b[0m \u001b[0;32mimport\u001b[0m \u001b[0mos\u001b[0m\u001b[0;34m\u001b[0m\u001b[0;34m\u001b[0m\u001b[0m\n\u001b[0;32m----> 2\u001b[0;31m \u001b[0mprint\u001b[0m\u001b[0;34m(\u001b[0m\u001b[0m__file__\u001b[0m\u001b[0;34m)\u001b[0m\u001b[0;34m\u001b[0m\u001b[0;34m\u001b[0m\u001b[0m\n\u001b[0m",
      "\u001b[0;31mNameError\u001b[0m: name '__file__' is not defined"
     ]
    }
   ],
   "source": [
    "import os\n",
    "print(__file__)"
   ]
  },
  {
   "cell_type": "code",
   "execution_count": 82,
   "metadata": {},
   "outputs": [],
   "source": [
    "ds.attrs['description'] = \"6-hourly output for forcing RACMO2 RCM\"\n",
    "ds.attrs['author'] = \"Leo van Kampenhout\"\n",
    "ds.attrs['creation date'] = datetime.datetime.now()\n",
    "ds.attrs['source script'] = \"\""
   ]
  },
  {
   "cell_type": "code",
   "execution_count": 83,
   "metadata": {},
   "outputs": [
    {
     "data": {
      "text/html": [
       "<pre>&lt;xarray.Dataset&gt;\n",
       "Dimensions:  (lat: 192, lev: 32, lon: 288, time: 112)\n",
       "Coordinates:\n",
       "  * lon      (lon) float64 0.0 1.25 2.5 3.75 5.0 ... 355.0 356.2 357.5 358.8\n",
       "  * lat      (lat) float64 -90.0 -89.06 -88.12 -87.17 ... 87.17 88.12 89.06 90.0\n",
       "  * lev      (lev) float64 0.9926 0.9763 0.9575 ... 0.01436 0.007595 0.003643\n",
       "  * time     (time) object 2015-02-01 00:00:00 ... 2015-02-28 18:00:00\n",
       "Data variables:\n",
       "    hus      (time, lev, lat, lon) float32 dask.array&lt;chunksize=(112, 32, 192, 288), meta=np.ndarray&gt;\n",
       "    tos      (time, lat, lon) float32 ...\n",
       "    ta       (time, lev, lat, lon) float32 dask.array&lt;chunksize=(112, 32, 192, 288), meta=np.ndarray&gt;\n",
       "Attributes:\n",
       "    description:  6-hourly output for forcing RACMO2 RCM</pre>"
      ],
      "text/plain": [
       "<xarray.Dataset>\n",
       "Dimensions:  (lat: 192, lev: 32, lon: 288, time: 112)\n",
       "Coordinates:\n",
       "  * lon      (lon) float64 0.0 1.25 2.5 3.75 5.0 ... 355.0 356.2 357.5 358.8\n",
       "  * lat      (lat) float64 -90.0 -89.06 -88.12 -87.17 ... 87.17 88.12 89.06 90.0\n",
       "  * lev      (lev) float64 0.9926 0.9763 0.9575 ... 0.01436 0.007595 0.003643\n",
       "  * time     (time) object 2015-02-01 00:00:00 ... 2015-02-28 18:00:00\n",
       "Data variables:\n",
       "    hus      (time, lev, lat, lon) float32 dask.array<chunksize=(112, 32, 192, 288), meta=np.ndarray>\n",
       "    tos      (time, lat, lon) float32 ...\n",
       "    ta       (time, lev, lat, lon) float32 dask.array<chunksize=(112, 32, 192, 288), meta=np.ndarray>\n",
       "Attributes:\n",
       "    description:  6-hourly output for forcing RACMO2 RCM"
      ]
     },
     "execution_count": 83,
     "metadata": {},
     "output_type": "execute_result"
    }
   ],
   "source": [
    "ds"
   ]
  },
  {
   "cell_type": "code",
   "execution_count": 79,
   "metadata": {},
   "outputs": [],
   "source": [
    "ds.to_netcdf(f'monthly/{mon_str}.nc')"
   ]
  },
  {
   "cell_type": "code",
   "execution_count": null,
   "metadata": {},
   "outputs": [],
   "source": []
  }
 ],
 "metadata": {
  "kernelspec": {
   "display_name": "Python 3",
   "language": "python",
   "name": "python3"
  },
  "language_info": {
   "codemirror_mode": {
    "name": "ipython",
    "version": 3
   },
   "file_extension": ".py",
   "mimetype": "text/x-python",
   "name": "python",
   "nbconvert_exporter": "python",
   "pygments_lexer": "ipython3",
   "version": "3.7.3"
  }
 },
 "nbformat": 4,
 "nbformat_minor": 4
}
